{
 "cells": [
  {
   "cell_type": "code",
   "execution_count": 1,
   "id": "d719fe6e",
   "metadata": {},
   "outputs": [],
   "source": [
    "import json"
   ]
  },
  {
   "cell_type": "code",
   "execution_count": 2,
   "id": "87b6a60a",
   "metadata": {},
   "outputs": [],
   "source": [
    "import os"
   ]
  },
  {
   "cell_type": "code",
   "execution_count": 3,
   "id": "9016230a",
   "metadata": {},
   "outputs": [],
   "source": [
    "class FinanceTracker:\n",
    "    def __init__(self):\n",
    "        self.data_file=\"report.json\"\n",
    "        self.user_data=self.load_data()\n",
    "\n",
    "    def load_data(self):\n",
    "        if os.path.exists(self.data_file):\n",
    "            with open(self.data_file,\"r\") as file:\n",
    "                return json.load(file)\n",
    "        else:\n",
    "            return {\"income\":[],\"expenses\":[]}\n",
    "\n",
    "    def save_data(self):\n",
    "        with open(self.data_file,\"w\") as file:\n",
    "            json.dump(self.user_data,file,indent=2)\n",
    "\n",
    "    def add_income(self,amount,source):\n",
    "        self.user_data[\"income\"].append({\"amount\":amount,\"source\":source})\n",
    "        self.save_data()\n",
    "\n",
    "    def add_expense(self,amount,category):\n",
    "        self.user_data[\"expenses\"].append({\"amount\":amount,\"category\":category})\n",
    "        self.save_data()\n",
    "\n",
    "    def display_summary(self):\n",
    "        total_income=sum(item[\"amount\"] for item in self.user_data[\"income\"])\n",
    "        total_expenses=sum(item[\"amount\"] for item in self.user_data[\"expenses\"])\n",
    "        savings=total_income - total_expenses\n",
    "\n",
    "        print(\"\\nFinance Summary:\")\n",
    "        print(f\"Total Income: ${total_income}\")\n",
    "        print(f\"Total Expenses: ${total_expenses}\")\n",
    "        print(f\"Savings: ${savings}\\n\")"
   ]
  },
  {
   "cell_type": "code",
   "execution_count": 4,
   "id": "e833c0c0",
   "metadata": {},
   "outputs": [
    {
     "name": "stdout",
     "output_type": "stream",
     "text": [
      "1.Add Income\n",
      "2.Add Expense\n",
      "3.Display Summary\n",
      "4.Exit\n",
      "Enter your choice (1-4): 1\n",
      "Enter income amount: 5000\n",
      "Enter income source: work\n",
      "1.Add Income\n",
      "2.Add Expense\n",
      "3.Display Summary\n",
      "4.Exit\n",
      "Enter your choice (1-4): 2\n",
      "Enter expense amount: 1000\n",
      "Enter expense category: shopping\n",
      "1.Add Income\n",
      "2.Add Expense\n",
      "3.Display Summary\n",
      "4.Exit\n",
      "Enter your choice (1-4): 3\n",
      "\n",
      "Finance Summary:\n",
      "Total Income: $6500.0\n",
      "Total Expenses: $1600.0\n",
      "Savings: $4900.0\n",
      "\n",
      "1.Add Income\n",
      "2.Add Expense\n",
      "3.Display Summary\n",
      "4.Exit\n",
      "Enter your choice (1-4): 4\n",
      "Thank you.Goodbye!\n"
     ]
    }
   ],
   "source": [
    "tracker=FinanceTracker()\n",
    "\n",
    "while True:\n",
    "    print(\"1.Add Income\")\n",
    "    print(\"2.Add Expense\")\n",
    "    print(\"3.Display Summary\")\n",
    "    print(\"4.Exit\")\n",
    "\n",
    "    select=input(\"Enter your choice (1-4): \")\n",
    "\n",
    "    if select==\"1\":\n",
    "        amount=float(input(\"Enter income amount: \"))\n",
    "        source=input(\"Enter income source: \")\n",
    "        tracker.add_income(amount, source)\n",
    "    elif select==\"2\":\n",
    "        amount=float(input(\"Enter expense amount: \"))\n",
    "        category=input(\"Enter expense category: \")\n",
    "        tracker.add_expense(amount, category)\n",
    "    elif select==\"3\":\n",
    "        tracker.display_summary()\n",
    "    elif select==\"4\":\n",
    "        print(\"Thank you.Goodbye!\")\n",
    "        break\n",
    "    else:\n",
    "        print(\"Invalid selection. Please enter a number between 1 to 4.\")"
   ]
  }
 ],
 "metadata": {
  "kernelspec": {
   "display_name": "Python 3 (ipykernel)",
   "language": "python",
   "name": "python3"
  },
  "language_info": {
   "codemirror_mode": {
    "name": "ipython",
    "version": 3
   },
   "file_extension": ".py",
   "mimetype": "text/x-python",
   "name": "python",
   "nbconvert_exporter": "python",
   "pygments_lexer": "ipython3",
   "version": "3.9.13"
  }
 },
 "nbformat": 4,
 "nbformat_minor": 5
}
